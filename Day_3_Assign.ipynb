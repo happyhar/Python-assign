{
  "nbformat": 4,
  "nbformat_minor": 0,
  "metadata": {
    "colab": {
      "name": "Day 3 Assign.ipynb",
      "provenance": [],
      "authorship_tag": "ABX9TyMOzOtItD0UQPQL4NaUpng3",
      "include_colab_link": true
    },
    "kernelspec": {
      "name": "python3",
      "display_name": "Python 3"
    }
  },
  "cells": [
    {
      "cell_type": "markdown",
      "metadata": {
        "id": "view-in-github",
        "colab_type": "text"
      },
      "source": [
        "<a href=\"https://colab.research.google.com/github/happyhar/Python-assign/blob/master/Day_3_Assign.ipynb\" target=\"_parent\"><img src=\"https://colab.research.google.com/assets/colab-badge.svg\" alt=\"Open In Colab\"/></a>"
      ]
    },
    {
      "cell_type": "markdown",
      "metadata": {
        "id": "NnECFJEUNoCF",
        "colab_type": "text"
      },
      "source": [
        "##Question 1"
      ]
    },
    {
      "cell_type": "code",
      "metadata": {
        "id": "WXZ_OKZrLsgg",
        "colab_type": "code",
        "colab": {
          "base_uri": "https://localhost:8080/",
          "height": 52
        },
        "outputId": "251a5ccb-772e-45c3-a989-258825173516"
      },
      "source": [
        "sum = 0\n",
        "n = int(input(\"Enter The Number\"))\n",
        "i = 0\n",
        "while(i<=n):\n",
        "  sum = sum + i\n",
        "  i=i+1\n",
        "print(sum)"
      ],
      "execution_count": 8,
      "outputs": [
        {
          "output_type": "stream",
          "text": [
            "Enter The Number2\n",
            "3\n"
          ],
          "name": "stdout"
        }
      ]
    },
    {
      "cell_type": "code",
      "metadata": {
        "id": "NFB_t7g8Lslm",
        "colab_type": "code",
        "colab": {}
      },
      "source": [
        ""
      ],
      "execution_count": null,
      "outputs": []
    },
    {
      "cell_type": "markdown",
      "metadata": {
        "id": "-kS3ZBY6NteR",
        "colab_type": "text"
      },
      "source": [
        "##Question 2"
      ]
    },
    {
      "cell_type": "code",
      "metadata": {
        "id": "2vYltnkCLssD",
        "colab_type": "code",
        "colab": {
          "base_uri": "https://localhost:8080/",
          "height": 52
        },
        "outputId": "f356bc72-b8a4-4b33-9f1b-c0b444f5bdfe"
      },
      "source": [
        "x = int(input(\"Enter The Number\"))\n",
        "if x > 1:\n",
        "   for n in range(2, x):\n",
        "      if (x % n) == 0:\n",
        "         print(x, \"is not prime\")\n",
        "         break\n",
        "   else:\n",
        "      print(x, \"is a prime number\")\n",
        "else:\n",
        "      print(x, \"is not prime number\")\n"
      ],
      "execution_count": 26,
      "outputs": [
        {
          "output_type": "stream",
          "text": [
            "Enter The Number50\n",
            "50 is not prime\n"
          ],
          "name": "stdout"
        }
      ]
    },
    {
      "cell_type": "code",
      "metadata": {
        "id": "z9ssrOD4Lspk",
        "colab_type": "code",
        "colab": {}
      },
      "source": [
        ""
      ],
      "execution_count": null,
      "outputs": []
    }
  ]
}