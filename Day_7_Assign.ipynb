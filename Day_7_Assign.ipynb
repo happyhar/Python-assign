{
  "nbformat": 4,
  "nbformat_minor": 0,
  "metadata": {
    "colab": {
      "name": "Day 7 Assign.ipynb",
      "provenance": [],
      "authorship_tag": "ABX9TyOfFcZpgo6fgAa6aa+v0ma4",
      "include_colab_link": true
    },
    "kernelspec": {
      "name": "python3",
      "display_name": "Python 3"
    }
  },
  "cells": [
    {
      "cell_type": "markdown",
      "metadata": {
        "id": "view-in-github",
        "colab_type": "text"
      },
      "source": [
        "<a href=\"https://colab.research.google.com/github/happyhar/Python-assign/blob/master/Day_7_Assign.ipynb\" target=\"_parent\"><img src=\"https://colab.research.google.com/assets/colab-badge.svg\" alt=\"Open In Colab\"/></a>"
      ]
    },
    {
      "cell_type": "markdown",
      "metadata": {
        "id": "LleYcmyCN_1a",
        "colab_type": "text"
      },
      "source": [
        "##Question 1"
      ]
    },
    {
      "cell_type": "code",
      "metadata": {
        "id": "MsgpUFCWN71h",
        "colab_type": "code",
        "colab": {
          "base_uri": "https://localhost:8080/",
          "height": 34
        },
        "outputId": "38bd7e79-ce49-4832-dda2-8f850dcf3428"
      },
      "source": [
        "\n",
        "port1={21:'FTP',22:'SSH',23:'telnet',80:'http'}\n",
        "dict((value,key) for key ,value in port1.items())"
      ],
      "execution_count": 1,
      "outputs": [
        {
          "output_type": "execute_result",
          "data": {
            "text/plain": [
              "{'FTP': 21, 'SSH': 22, 'http': 80, 'telnet': 23}"
            ]
          },
          "metadata": {
            "tags": []
          },
          "execution_count": 1
        }
      ]
    },
    {
      "cell_type": "markdown",
      "metadata": {
        "id": "iCiBiudnOH2y",
        "colab_type": "text"
      },
      "source": [
        "##Question 2"
      ]
    },
    {
      "cell_type": "code",
      "metadata": {
        "id": "W8lZsbryONr3",
        "colab_type": "code",
        "colab": {
          "base_uri": "https://localhost:8080/",
          "height": 52
        },
        "outputId": "84631974-9e8e-42c3-8152-cbf24dbbcd8a"
      },
      "source": [
        "list1=[(1,2),(3,4),(5,6),(4,5)]\n",
        "res=[sum(x) for x in list1]\n",
        "print(list1)\n",
        "result=list(map(sum,list1))\n",
        "print(result)"
      ],
      "execution_count": 4,
      "outputs": [
        {
          "output_type": "stream",
          "text": [
            "[(1, 2), (3, 4), (5, 6), (4, 5)]\n",
            "[3, 7, 11, 9]\n"
          ],
          "name": "stdout"
        }
      ]
    }
  ]
}