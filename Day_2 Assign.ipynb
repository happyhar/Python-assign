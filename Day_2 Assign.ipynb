{
  "nbformat": 4,
  "nbformat_minor": 0,
  "metadata": {
    "colab": {
      "name": "Day 1.ipynb",
      "provenance": [],
      "authorship_tag": "ABX9TyPmrbLnXtfIchOKUKMzS0KN"
    },
    "kernelspec": {
      "name": "python3",
      "display_name": "Python 3"
    }
  },
  "cells": [
    {
      "cell_type": "code",
      "metadata": {
        "id": "ob9cKD9PhQX4",
        "colab_type": "code",
        "colab": {
          "base_uri": "https://localhost:8080/",
          "height": 34
        },
        "outputId": "1881d8d1-5fee-41b1-d57f-91b7aa83e6bf"
      },
      "source": [
        "print(\"hello \\\n",
        " world\")"
      ],
      "execution_count": null,
      "outputs": [
        {
          "output_type": "stream",
          "text": [
            "hello  world\n"
          ],
          "name": "stdout"
        }
      ]
    },
    {
      "cell_type": "code",
      "metadata": {
        "id": "1scYx7uuhWW0",
        "colab_type": "code",
        "colab": {
          "base_uri": "https://localhost:8080/",
          "height": 35
        },
        "outputId": "7ea1ebd5-4d13-4a99-c47a-9b04a74e0bfc"
      },
      "source": [
        "\"\"\" Hello Guys \"\"\""
      ],
      "execution_count": null,
      "outputs": [
        {
          "output_type": "execute_result",
          "data": {
            "application/vnd.google.colaboratory.intrinsic": {
              "type": "string"
            },
            "text/plain": [
              "' Hello Guys '"
            ]
          },
          "metadata": {
            "tags": []
          },
          "execution_count": 2
        }
      ]
    },
    {
      "cell_type": "code",
      "metadata": {
        "id": "cb6RRDlbhWcn",
        "colab_type": "code",
        "colab": {
          "base_uri": "https://localhost:8080/",
          "height": 69
        },
        "outputId": "5fe8e4f9-b82c-4328-8ee8-e9e5c9461a92"
      },
      "source": [
        "name=\"Harsha\"\n",
        "marks=96\n",
        "age=19\n",
        "print(\"the name of person is\",name,\"marks is\",marks,\"age is\",age)\n",
        "print(\"the name of person is %4s marks is %4.0f and age is %4d\"%(name,marks,age))\n",
        "print(f\"the name of person is {name} marks is {marks} age is {age}\")"
      ],
      "execution_count": null,
      "outputs": [
        {
          "output_type": "stream",
          "text": [
            "the name of person is Harsha marks is 96 age is 19\n",
            "the name of person is Harsha marks is   96 and age is   19\n",
            "the name of person is Harsha marks is 96 age is 19\n"
          ],
          "name": "stdout"
        }
      ]
    },
    {
      "cell_type": "markdown",
      "metadata": {
        "id": "8UBKku-Dh2bs",
        "colab_type": "text"
      },
      "source": [
        "##Arithmetic Operations"
      ]
    },
    {
      "cell_type": "code",
      "metadata": {
        "id": "m8zP4PKGhWpg",
        "colab_type": "code",
        "colab": {
          "base_uri": "https://localhost:8080/",
          "height": 121
        },
        "outputId": "734ece03-6e38-49c4-bab2-d5b2018b09dd"
      },
      "source": [
        "a=8\n",
        "b=2\n",
        "print(a+b)\n",
        "print(a-b)\n",
        "print(a*b)\n",
        "print(a/b)\n",
        "print(a//b)\n",
        "print(a**b)"
      ],
      "execution_count": null,
      "outputs": [
        {
          "output_type": "stream",
          "text": [
            "7\n",
            "3\n",
            "10\n",
            "2.5\n",
            "2\n",
            "25\n"
          ],
          "name": "stdout"
        }
      ]
    },
    {
      "cell_type": "code",
      "metadata": {
        "id": "FN1OeKdyhWlw",
        "colab_type": "code",
        "colab": {
          "base_uri": "https://localhost:8080/",
          "height": 34
        },
        "outputId": "1ca15b5f-62c1-4cc0-ace2-632d192df051"
      },
      "source": [
        "a=4\n",
        "b=4\n",
        "a+=b\n",
        "print(a)"
      ],
      "execution_count": null,
      "outputs": [
        {
          "output_type": "stream",
          "text": [
            "8\n"
          ],
          "name": "stdout"
        }
      ]
    },
    {
      "cell_type": "markdown",
      "metadata": {
        "id": "c7ljD7GpitEJ",
        "colab_type": "text"
      },
      "source": [
        "##Bitwise operator"
      ]
    },
    {
      "cell_type": "code",
      "metadata": {
        "id": "1ZZgagoXhWka",
        "colab_type": "code",
        "colab": {
          "base_uri": "https://localhost:8080/",
          "height": 69
        },
        "outputId": "2ec80a51-2c78-49fd-e9b6-e9a9851c0c38"
      },
      "source": [
        "a=8\n",
        "b=2\n",
        "print(a&b)\n",
        "print(a|b)\n",
        "print(~a)"
      ],
      "execution_count": 7,
      "outputs": [
        {
          "output_type": "stream",
          "text": [
            "0\n",
            "10\n",
            "-9\n"
          ],
          "name": "stdout"
        }
      ]
    },
    {
      "cell_type": "markdown",
      "metadata": {
        "id": "Yl-G8O8wi5Ea",
        "colab_type": "text"
      },
      "source": [
        "Logical Operator"
      ]
    },
    {
      "cell_type": "code",
      "metadata": {
        "id": "_71PDCpdhWim",
        "colab_type": "code",
        "colab": {
          "base_uri": "https://localhost:8080/",
          "height": 69
        },
        "outputId": "2572a935-03eb-4543-c2a9-71239708a442"
      },
      "source": [
        "a=6\n",
        "b=2\n",
        "c=4\n",
        "print((a>b and b<c))\n",
        "print((a>b or b>c))\n",
        "print(not a>b)"
      ],
      "execution_count": 8,
      "outputs": [
        {
          "output_type": "stream",
          "text": [
            "True\n",
            "True\n",
            "False\n"
          ],
          "name": "stdout"
        }
      ]
    },
    {
      "cell_type": "markdown",
      "metadata": {
        "id": "aBomshIhjBrE",
        "colab_type": "text"
      },
      "source": [
        "##Membership Operator"
      ]
    },
    {
      "cell_type": "code",
      "metadata": {
        "id": "LhZdagI5hWgk",
        "colab_type": "code",
        "colab": {
          "base_uri": "https://localhost:8080/",
          "height": 52
        },
        "outputId": "cf3a7ff7-8dbf-4a53-ee78-94b6dddceeaf"
      },
      "source": [
        "str=\"harsha\"\n",
        "print('a' in str)\n",
        "print('v' in str)"
      ],
      "execution_count": 9,
      "outputs": [
        {
          "output_type": "stream",
          "text": [
            "True\n",
            "False\n"
          ],
          "name": "stdout"
        }
      ]
    },
    {
      "cell_type": "markdown",
      "metadata": {
        "id": "nFZpjgGdjSM9",
        "colab_type": "text"
      },
      "source": [
        "##Identity Operator"
      ]
    },
    {
      "cell_type": "code",
      "metadata": {
        "id": "1xFfdQ1LhWas",
        "colab_type": "code",
        "colab": {
          "base_uri": "https://localhost:8080/",
          "height": 34
        },
        "outputId": "675a2b30-8b42-40f0-d905-bfc5f8c5775b"
      },
      "source": [
        "a=300\n",
        "b=200\n",
        "a is b"
      ],
      "execution_count": 11,
      "outputs": [
        {
          "output_type": "execute_result",
          "data": {
            "text/plain": [
              "False"
            ]
          },
          "metadata": {
            "tags": []
          },
          "execution_count": 11
        }
      ]
    }
  ]
}
