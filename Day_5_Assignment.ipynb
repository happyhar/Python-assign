{
  "nbformat": 4,
  "nbformat_minor": 0,
  "metadata": {
    "colab": {
      "name": "Day 5 Assignment.ipynb",
      "provenance": [],
      "authorship_tag": "ABX9TyMginiErv0jM+69FzvYmbq4",
      "include_colab_link": true
    },
    "kernelspec": {
      "name": "python3",
      "display_name": "Python 3"
    }
  },
  "cells": [
    {
      "cell_type": "markdown",
      "metadata": {
        "id": "view-in-github",
        "colab_type": "text"
      },
      "source": [
        "<a href=\"https://colab.research.google.com/github/happyhar/Python-assign/blob/master/Day_5_Assignment.ipynb\" target=\"_parent\"><img src=\"https://colab.research.google.com/assets/colab-badge.svg\" alt=\"Open In Colab\"/></a>"
      ]
    },
    {
      "cell_type": "markdown",
      "metadata": {
        "id": "ABO0ANvJoYmR",
        "colab_type": "text"
      },
      "source": [
        "##Question 1"
      ]
    },
    {
      "cell_type": "code",
      "metadata": {
        "id": "IPk_Xpz_mb4V",
        "colab_type": "code",
        "colab": {
          "base_uri": "https://localhost:8080/",
          "height": 225
        },
        "outputId": "8aa05364-9bd2-4921-d8cd-05017d226a7d"
      },
      "source": [
        "\n",
        "\n",
        "\n",
        "list1=[]\n",
        "n=int(input(\"enter the size of list\"))\n",
        "for i in range(0,n):\n",
        "    a=int(input(\"Enter list elements - \"))\n",
        "    list1.append(a)\n",
        "list2=[]\n",
        "m=list1.count(0)\n",
        "for i in range(len(list1)):\n",
        "    if list1[i]!=0:\n",
        "        list2.append(list1[i])\n",
        "list2.sort()\n",
        "for i in range(m):\n",
        "    list2.append(0)\n",
        "print(\"the sorted list:\"+str(list2))\n",
        "\n"
      ],
      "execution_count": 7,
      "outputs": [
        {
          "output_type": "stream",
          "text": [
            "enter the size of list10\n",
            "Enter list elements9\n",
            "Enter list elements3\n",
            "Enter list elements4\n",
            "Enter list elements5\n",
            "Enter list elements0\n",
            "Enter list elements0\n",
            "Enter list elements1\n",
            "Enter list elements3\n",
            "Enter list elements0\n",
            "Enter list elements3\n",
            "the sorted list:[1, 3, 3, 3, 4, 5, 9, 0, 0, 0]\n"
          ],
          "name": "stdout"
        }
      ]
    },
    {
      "cell_type": "code",
      "metadata": {
        "id": "5TnV_RyfodvF",
        "colab_type": "code",
        "colab": {}
      },
      "source": [
        ""
      ],
      "execution_count": null,
      "outputs": []
    },
    {
      "cell_type": "markdown",
      "metadata": {
        "id": "mvuUOCksoeYo",
        "colab_type": "text"
      },
      "source": [
        "##Question 2"
      ]
    },
    {
      "cell_type": "code",
      "metadata": {
        "id": "_JKJJKFZoiX2",
        "colab_type": "code",
        "colab": {
          "base_uri": "https://localhost:8080/",
          "height": 191
        },
        "outputId": "818e281d-85e3-4f70-c124-9c6e3ab36ab4"
      },
      "source": [
        "list1=[]\n",
        "n=int(input(\"Enter the size of list1\"))\n",
        "print(\"Enter the elements of list1\")\n",
        "for i in range(0,n):\n",
        "    a=int(input())\n",
        "    list1.append(a)\n",
        "list2=[]\n",
        "n=int(input(\"Enter the size of list2\"))\n",
        "print(\"Enter the elements of list1\")\n",
        "for i in range(0,n):\n",
        "    a=int(input())\n",
        "    list2.append(a)\n",
        "res=sorted(list1+list2)\n",
        "print(\"the sorted list is\"+ str(res))"
      ],
      "execution_count": 16,
      "outputs": [
        {
          "output_type": "stream",
          "text": [
            "Enter the size of list13\n",
            "Enter the elements of list1\n",
            "2\n",
            "1\n",
            "4\n",
            "Enter the size of list22\n",
            "Enter the elements of list1\n",
            "3\n",
            "7\n",
            "the sorted list is[1, 2, 3, 4, 7]\n"
          ],
          "name": "stdout"
        }
      ]
    }
  ]
}
