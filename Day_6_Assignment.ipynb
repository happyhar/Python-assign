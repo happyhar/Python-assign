##Q1

List1 = [1, 2, 3, 4, 5, 7, 8]
List2 = ['a', 'b', 'c', 'd', 'e']

diclength = len(List1) if len(List1) < len(List2) else len(List2)

res = {List1[i] : List2[i] for i in range(dicength)}

print(res)
